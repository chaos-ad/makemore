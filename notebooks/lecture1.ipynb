{
 "cells": [
  {
   "cell_type": "code",
   "execution_count": null,
   "metadata": {},
   "outputs": [
    {
     "data": {
      "text/plain": [
       "'/home/ec2-user/SageMaker/code/makemore/notebooks'"
      ]
     },
     "execution_count": 1,
     "metadata": {},
     "output_type": "execute_result"
    }
   ],
   "source": [
    "%pwd"
   ]
  },
  {
   "cell_type": "code",
   "execution_count": 1,
   "metadata": {},
   "outputs": [],
   "source": [
    "import tqdm.auto as tqdm"
   ]
  },
  {
   "cell_type": "code",
   "execution_count": 2,
   "metadata": {},
   "outputs": [],
   "source": [
    "import torch"
   ]
  },
  {
   "cell_type": "code",
   "execution_count": 3,
   "metadata": {},
   "outputs": [],
   "source": [
    "with open(\"../names.txt\") as f:\n",
    "    words = f.read().splitlines()"
   ]
  },
  {
   "cell_type": "code",
   "execution_count": 4,
   "metadata": {},
   "outputs": [
    {
     "data": {
      "text/plain": [
       "27"
      ]
     },
     "execution_count": 4,
     "metadata": {},
     "output_type": "execute_result"
    }
   ],
   "source": [
    "EOF = '.'\n",
    "token2idx = {EOF: 0}\n",
    "idx2token = {0: EOF}\n",
    "\n",
    "for idx, token in enumerate(sorted(list(set(''.join(words)))), start=1):\n",
    "    token2idx[token] = idx\n",
    "    idx2token[idx] = token\n",
    "\n",
    "def encode(token):\n",
    "    return token2idx[token]\n",
    "\n",
    "def decode(idx):\n",
    "    return idx2token[idx]\n",
    "\n",
    "vocab_size = len(token2idx)\n",
    "vocab_size"
   ]
  },
  {
   "cell_type": "code",
   "execution_count": null,
   "metadata": {},
   "outputs": [],
   "source": [
    "# {name:[encode(c) for c in name] for name in names[:3]}"
   ]
  },
  {
   "cell_type": "code",
   "execution_count": 5,
   "metadata": {},
   "outputs": [
    {
     "name": "stdout",
     "output_type": "stream",
     "text": [
      "('.', 'e')\n",
      "('e', 'm')\n",
      "('m', 'm')\n",
      "('m', 'a')\n",
      "('a', '.')\n",
      "('.', 'o')\n",
      "('o', 'l')\n",
      "('l', 'i')\n",
      "('i', 'v')\n",
      "('v', 'i')\n",
      "('i', 'a')\n",
      "('a', '.')\n",
      "('.', 'a')\n",
      "('a', 'v')\n",
      "('v', 'a')\n",
      "('a', '.')\n"
     ]
    }
   ],
   "source": [
    "for word in words[:3]:\n",
    "    seq = [EOF] + list(word) + [EOF]\n",
    "    for i in range(len(seq)-1):\n",
    "        pair = (seq[i], seq[i+1])\n",
    "        print(f\"{pair}\")"
   ]
  },
  {
   "cell_type": "code",
   "execution_count": 6,
   "metadata": {
    "tags": []
   },
   "outputs": [
    {
     "data": {
      "application/vnd.jupyter.widget-view+json": {
       "model_id": "d262e88304f14c0280c6f4fb22e36d7f",
       "version_major": 2,
       "version_minor": 0
      },
      "text/plain": [
       "  0%|          | 0/32033 [00:00<?, ?it/s]"
      ]
     },
     "metadata": {},
     "output_type": "display_data"
    }
   ],
   "source": [
    "counts = {}\n",
    "for word in tqdm.tqdm(words):\n",
    "    seq = [EOF] + list(word) + [EOF]\n",
    "    for i in range(len(seq)-1):\n",
    "        pair = (seq[i], seq[i+1])\n",
    "        counts[pair] = counts.get(pair, 0) + 1"
   ]
  },
  {
   "cell_type": "code",
   "execution_count": 7,
   "metadata": {
    "tags": []
   },
   "outputs": [
    {
     "data": {
      "text/plain": [
       "[(('n', '.'), 6763),\n",
       " (('a', '.'), 6640),\n",
       " (('a', 'n'), 5438),\n",
       " (('.', 'a'), 4410),\n",
       " (('e', '.'), 3983)]"
      ]
     },
     "execution_count": 7,
     "metadata": {},
     "output_type": "execute_result"
    }
   ],
   "source": [
    "sorted(counts.items(), key = lambda kv: kv[1], reverse=True)[:5]"
   ]
  },
  {
   "cell_type": "code",
   "execution_count": 133,
   "metadata": {
    "tags": []
   },
   "outputs": [
    {
     "data": {
      "application/vnd.jupyter.widget-view+json": {
       "model_id": "6cef20527a234df0b1af840734b5131d",
       "version_major": 2,
       "version_minor": 0
      },
      "text/plain": [
       "  0%|          | 0/32033 [00:00<?, ?it/s]"
      ]
     },
     "metadata": {},
     "output_type": "display_data"
    }
   ],
   "source": [
    "counts = torch.zeros((vocab_size, vocab_size), dtype = torch.int32)\n",
    "\n",
    "for word in tqdm.tqdm(words):\n",
    "    seq = [EOF] + list(word) + [EOF]\n",
    "    for i in range(len(seq)-1):\n",
    "        pair = (encode(seq[i]), encode(seq[i+1]))\n",
    "        counts[pair] += 1"
   ]
  },
  {
   "cell_type": "code",
   "execution_count": 134,
   "metadata": {},
   "outputs": [],
   "source": [
    "import matplotlib.pyplot as plt\n",
    "%matplotlib inline"
   ]
  },
  {
   "cell_type": "code",
   "execution_count": 135,
   "metadata": {},
   "outputs": [
    {
     "data": {
      "text/plain": [
       "<matplotlib.image.AxesImage at 0x7f0b4c3cb6a0>"
      ]
     },
     "execution_count": 135,
     "metadata": {},
     "output_type": "execute_result"
    },
    {
     "data": {
      "image/png": "[encoded data removed]",
      "text/plain": [
       "<Figure size 640x480 with 1 Axes>"
      ]
     },
     "metadata": {},
     "output_type": "display_data"
    }
   ],
   "source": [
    "plt.imshow(counts)"
   ]
  },
  {
   "cell_type": "markdown",
   "metadata": {},
   "source": [
    "## Small digression here: let's try to make an animation"
   ]
  },
  {
   "cell_type": "markdown",
   "metadata": {},
   "source": [
    "### Trying to use native matplotlib animation"
   ]
  },
  {
   "cell_type": "code",
   "execution_count": null,
   "metadata": {},
   "outputs": [],
   "source": [
    "# %matplotlib notebook\n",
    "\n",
    "# import matplotlib\n",
    "# import matplotlib.pyplot as plt\n",
    "\n",
    "# import matplotlib.animation as animation"
   ]
  },
  {
   "cell_type": "code",
   "execution_count": null,
   "metadata": {},
   "outputs": [],
   "source": [
    "# %pip install ffmpeg-python"
   ]
  },
  {
   "cell_type": "code",
   "execution_count": null,
   "metadata": {},
   "outputs": [],
   "source": [
    "# fps = 30\n",
    "# seconds = 5\n",
    "\n",
    "# pbar = tqdm.tqdm(\"rendering animation\", total=seconds * fps)\n",
    "\n",
    "# counts = torch.zeros((vocab_size, vocab_size), dtype = torch.int32)\n",
    "\n",
    "# fig = plt.figure( figsize=(8,8) )\n",
    "# im = plt.imshow(counts, interpolation='none', aspect='auto', vmin=0, vmax=1)\n",
    "\n",
    "# def render_frame(i):\n",
    "#     word = words[i]\n",
    "#     seq = ['<EOF>'] + list(word) + ['<EOF>']\n",
    "#     for i in range(len(seq)-1):\n",
    "#         pair = (encode(seq[i]), encode(seq[i+1]))\n",
    "#         counts[pair] += 1\n",
    "\n",
    "#     im.set_array(counts)\n",
    "\n",
    "#     pbar.update(1)\n",
    "#     return [im]\n",
    "\n",
    "# anim = animation.FuncAnimation(fig, render_frame, frames = seconds * fps, interval = 1000 / fps)\n",
    "# anim.save('test_anim.mp4', fps=fps, extra_args=['-vcodec', 'libx264'])"
   ]
  },
  {
   "cell_type": "markdown",
   "metadata": {},
   "source": [
    "### Trying to do the same with celluloid library"
   ]
  },
  {
   "cell_type": "code",
   "execution_count": null,
   "metadata": {},
   "outputs": [],
   "source": [
    "# %pip install celluloid"
   ]
  },
  {
   "cell_type": "code",
   "execution_count": null,
   "metadata": {},
   "outputs": [],
   "source": [
    "# %matplotlib notebook\n",
    "# from celluloid import Camera\n",
    "\n",
    "# frames = 30\n",
    "# seconds = 5\n",
    "# total_frames = int(frames * seconds)\n",
    "# iterations_per_frame = int(len(words) // total_frames)\n",
    "\n",
    "# fig = plt.figure( figsize=(8,8) )\n",
    "# camera = Camera(fig)\n",
    "# counts = torch.zeros((vocab_size, vocab_size), dtype = torch.int32)\n",
    "# for word_idx, word in enumerate(tqdm.tqdm(words, desc=\"rendering animation\"), start=1):\n",
    "#     seq = ['<EOF>'] + list(word) + ['<EOF>']\n",
    "#     for i in range(len(seq)-1):\n",
    "#         pair = (encode(seq[i]), encode(seq[i+1]))\n",
    "#         counts[pair] += 1\n",
    "#     if word_idx % iterations_per_frame == 0:\n",
    "#         im = plt.imshow(counts)\n",
    "#         plt.pause(0.1)\n",
    "#         camera.snap()\n",
    "\n",
    "# animation = camera.animate()\n",
    "# animation.save('animation.gif', writer='Pillow', fps=frames)"
   ]
  },
  {
   "cell_type": "code",
   "execution_count": null,
   "metadata": {},
   "outputs": [],
   "source": [
    "# counts"
   ]
  },
  {
   "cell_type": "code",
   "execution_count": null,
   "metadata": {},
   "outputs": [],
   "source": [
    "# %matplotlib inline\n",
    "# plt.imshow(counts)"
   ]
  },
  {
   "cell_type": "markdown",
   "metadata": {},
   "source": [
    "## Continue with our stuff"
   ]
  },
  {
   "cell_type": "code",
   "execution_count": null,
   "metadata": {},
   "outputs": [],
   "source": [
    "plt.figure(figsize=(16,16))\n",
    "plt.imshow(counts, cmap=\"Blues\")\n",
    "for i in range(vocab_size):\n",
    "    for j in range(vocab_size):\n",
    "        title = decode(i) + decode(j)\n",
    "        plt.text(j, i, title, ha=\"center\", va=\"bottom\", color=\"gray\")\n",
    "        plt.text(j, i, counts[i, j].item(), ha=\"center\", va=\"top\", color=\"gray\")\n",
    "plt.axis(\"off\")"
   ]
  },
  {
   "cell_type": "markdown",
   "metadata": {},
   "source": [
    "## Sampling from the distribution:"
   ]
  },
  {
   "cell_type": "code",
   "execution_count": 137,
   "metadata": {},
   "outputs": [],
   "source": [
    "probs = counts / counts.sum(axis=1, keepdim=True)"
   ]
  },
  {
   "cell_type": "code",
   "execution_count": null,
   "metadata": {},
   "outputs": [],
   "source": [
    "plt.imshow(probs)"
   ]
  },
  {
   "cell_type": "code",
   "execution_count": null,
   "metadata": {},
   "outputs": [],
   "source": [
    "plt.figure(figsize=(16,16))\n",
    "plt.imshow(probs, cmap=\"Blues\")\n",
    "for i in range(vocab_size):\n",
    "    for j in range(vocab_size):\n",
    "        title = decode(i) + decode(j)\n",
    "        plt.text(j, i, title, ha=\"center\", va=\"bottom\", color=\"gray\")\n",
    "        plt.text(j, i, f\"{probs[i, j].item():.02f}\", ha=\"center\", va=\"top\", color=\"gray\")\n",
    "plt.axis(\"off\")"
   ]
  },
  {
   "cell_type": "code",
   "execution_count": 151,
   "metadata": {},
   "outputs": [
    {
     "data": {
      "text/plain": [
       "tensor([0.6064, 0.3033, 0.0903])"
      ]
     },
     "execution_count": 151,
     "metadata": {},
     "output_type": "execute_result"
    }
   ],
   "source": [
    "g = torch.Generator().manual_seed(2147483647)\n",
    "p = torch.rand(3, generator=g)\n",
    "p = p / p.sum()\n",
    "p"
   ]
  },
  {
   "cell_type": "code",
   "execution_count": 152,
   "metadata": {},
   "outputs": [
    {
     "data": {
      "text/plain": [
       "tensor([1, 1, 2, 0, 0, 2, 1, 1, 0, 0, 0, 1, 1, 0, 0, 1, 1, 0, 0, 1, 0, 2, 0, 0,\n",
       "        1, 0, 0, 1, 0, 0, 0, 1, 1, 1, 0, 1, 1, 0, 0, 1, 1, 1, 0, 1, 1, 0, 1, 1,\n",
       "        0, 2, 0, 0, 0, 0, 0, 0, 0, 0, 0, 0, 1, 1, 0, 0, 0, 0, 0, 0, 0, 0, 1, 0,\n",
       "        0, 1, 0, 0, 0, 0, 0, 0, 0, 1, 2, 0, 0, 0, 0, 0, 0, 1, 0, 0, 2, 0, 1, 0,\n",
       "        0, 1, 1, 1])"
      ]
     },
     "execution_count": 152,
     "metadata": {},
     "output_type": "execute_result"
    }
   ],
   "source": [
    "torch.multinomial(p, num_samples=100, replacement=True, generator=g)"
   ]
  },
  {
   "cell_type": "code",
   "execution_count": 153,
   "metadata": {},
   "outputs": [
    {
     "name": "stdout",
     "output_type": "stream",
     "text": [
      "[0]: . -> j (prob=7.56%)\n",
      "[1]: j -> u (prob=6.97%)\n",
      "[2]: u -> n (prob=8.77%)\n",
      "[3]: n -> i (prob=9.41%)\n",
      "[4]: i -> d (prob=2.49%)\n",
      "[5]: d -> e (prob=23.34%)\n",
      "[6]: e -> . (prob=19.50%)\n"
     ]
    }
   ],
   "source": [
    "g = torch.Generator().manual_seed(2147483647)\n",
    "curr_idx = torch.tensor(encode('.'))\n",
    "for seq_idx in range(10):\n",
    "    next_idx = torch.multinomial(probs[curr_idx], num_samples=1, replacement=True, generator=g)[0]\n",
    "    print(f\"[{seq_idx}]: {decode(curr_idx.item())} -> {decode(next_idx.item())} (prob={probs[curr_idx, next_idx].item()*100:.02f}%)\")\n",
    "    curr_idx = next_idx\n",
    "    if decode(next_idx.item()) == '.':\n",
    "        break"
   ]
  },
  {
   "cell_type": "code",
   "execution_count": 154,
   "metadata": {},
   "outputs": [],
   "source": [
    "def gen_sequence(probs, max_length=1000, init_token='.', generator=None):\n",
    "    result = []\n",
    "    curr_idx = encode(init_token)\n",
    "    for _ in range(max_length):\n",
    "        curr_idx = torch.multinomial(probs[curr_idx], num_samples=1, replacement=True, generator=generator)[0]\n",
    "        curr_token = decode(curr_idx.item())\n",
    "        if curr_token == '.':\n",
    "            break\n",
    "        result.append(curr_token)\n",
    "    return ''.join(result)"
   ]
  },
  {
   "cell_type": "code",
   "execution_count": 155,
   "metadata": {},
   "outputs": [
    {
     "name": "stdout",
     "output_type": "stream",
     "text": [
      "juwjdvdipkcqaz\n",
      "p\n",
      "cfqywocnzqfjiirltozcogsjgwzvudlhnpauyjbilevhajkdbduinrwibtlzsnjyievyvaftbzffvmumthyfodtumjrpfytszwjhrjagq\n",
      "coreaysezocfkyjjabdywejfmoifmwyfinwagaasnhsvfihofszxhddgosfmptpagicz\n",
      "rjpiufmthdt\n",
      "rkrrsru\n",
      "iyumuyfy\n",
      "mjekujcbkhvupwyhvpvhvccragr\n",
      "wdkhwfdztta\n",
      "mplyisbxlyhuuiqzavmpocbzthqmimvyqwat\n"
     ]
    }
   ],
   "source": [
    "g = torch.Generator().manual_seed(2147483647)\n",
    "\n",
    "for _ in range(10):\n",
    "    print(gen_sequence(probs=torch.ones((27,27)) / 27.0, generator=g))"
   ]
  },
  {
   "cell_type": "code",
   "execution_count": 156,
   "metadata": {},
   "outputs": [
    {
     "name": "stdout",
     "output_type": "stream",
     "text": [
      "junide\n",
      "janasah\n",
      "p\n",
      "cony\n",
      "a\n",
      "nn\n",
      "kohin\n",
      "tolian\n",
      "juee\n",
      "ksahnaauranilevias\n"
     ]
    }
   ],
   "source": [
    "g = torch.Generator().manual_seed(2147483647)\n",
    "\n",
    "for _ in range(10):\n",
    "    print(gen_sequence(probs, generator=g))"
   ]
  },
  {
   "cell_type": "markdown",
   "metadata": {},
   "source": [
    "## Evaluate the quality of the model by defining a loss function"
   ]
  },
  {
   "cell_type": "markdown",
   "metadata": {},
   "source": [
    "### Calculating the training loss on the entire training dataset & a few hand-crafted examples"
   ]
  },
  {
   "cell_type": "code",
   "execution_count": 166,
   "metadata": {},
   "outputs": [
    {
     "data": {
      "application/vnd.jupyter.widget-view+json": {
       "model_id": "5fb5b858776e4843a572e1f17e6f73da",
       "version_major": 2,
       "version_minor": 0
      },
      "text/plain": [
       "  0%|          | 0/32033 [00:00<?, ?it/s]"
      ]
     },
     "metadata": {},
     "output_type": "display_data"
    },
    {
     "name": "stdout",
     "output_type": "stream",
     "text": [
      "Sum Negative Log-Likelihood: 559891.7500\n",
      "Avg Negative Log-Likelihood: 2.4541\n"
     ]
    }
   ],
   "source": [
    "log_likelihood = 0\n",
    "\n",
    "examples = 0\n",
    "\n",
    "for word in tqdm.tqdm(words):\n",
    "    seq = [EOF] + list(word) + [EOF]\n",
    "    for i in range(len(seq)-1):\n",
    "        source_idx = encode(seq[i])\n",
    "        target_idx = encode(seq[i+1])\n",
    "        prob = probs[source_idx, target_idx]\n",
    "        log_prob = torch.log(prob)\n",
    "        log_likelihood += log_prob\n",
    "        examples += 1\n",
    "        # print(f\"{decode(source_idx)} -> {decode(target_idx)}: {prob=:0.4f}, {log_prob=:0.4f}, {log_likelihood=:0.4f}\")\n",
    "\n",
    "nll = - log_likelihood\n",
    "print(f\"Sum Negative Log-Likelihood: {nll:0.4f}\")\n",
    "print(f\"Avg Negative Log-Likelihood: {nll / examples:0.4f}\")"
   ]
  },
  {
   "cell_type": "code",
   "execution_count": 167,
   "metadata": {},
   "outputs": [
    {
     "name": "stdout",
     "output_type": "stream",
     "text": [
      ". -> a: prob=0.1377, log_prob=-1.9829, log_likelihood=-1.9829\n",
      "a -> n: prob=0.1605, log_prob=-1.8296, log_likelihood=-3.8125\n",
      "n -> a: prob=0.1624, log_prob=-1.8175, log_likelihood=-5.6299\n",
      "a -> t: prob=0.0203, log_prob=-3.8984, log_likelihood=-9.5283\n",
      "t -> o: prob=0.1197, log_prob=-2.1224, log_likelihood=-11.6507\n",
      "o -> l: prob=0.0780, log_prob=-2.5508, log_likelihood=-14.2015\n",
      "l -> y: prob=0.1138, log_prob=-2.1736, log_likelihood=-16.3751\n",
      "y -> j: prob=0.0024, log_prob=-6.0522, log_likelihood=-22.4272\n",
      "j -> q: prob=0.0000, log_prob=-inf, log_likelihood=-inf\n",
      "q -> .: prob=0.1029, log_prob=-2.2736, log_likelihood=-inf\n",
      "Sum Negative Log-Likelihood: inf\n",
      "Avg Negative Log-Likelihood: inf\n"
     ]
    }
   ],
   "source": [
    "log_likelihood = 0\n",
    "\n",
    "examples = 0\n",
    "\n",
    "for word in [\"anatolyjq\"]:\n",
    "    seq = [EOF] + list(word) + [EOF]\n",
    "    for i in range(len(seq)-1):\n",
    "        source_idx = encode(seq[i])\n",
    "        target_idx = encode(seq[i+1])\n",
    "        prob = probs[source_idx, target_idx]\n",
    "        log_prob = torch.log(prob)\n",
    "        log_likelihood += log_prob\n",
    "        examples += 1\n",
    "        print(f\"{decode(source_idx)} -> {decode(target_idx)}: {prob=:0.4f}, {log_prob=:0.4f}, {log_likelihood=:0.4f}\")\n",
    "\n",
    "nll = - log_likelihood\n",
    "print(f\"Sum Negative Log-Likelihood: {nll:0.4f}\")\n",
    "print(f\"Avg Negative Log-Likelihood: {nll / examples:0.4f}\")"
   ]
  },
  {
   "cell_type": "markdown",
   "metadata": {},
   "source": [
    "#### Adding model smoothing by adding fake counts:"
   ]
  },
  {
   "cell_type": "code",
   "execution_count": null,
   "metadata": {},
   "outputs": [],
   "source": [
    "probs = (counts + 1) / (counts + 1).sum(axis=1, keepdim=True)"
   ]
  },
  {
   "cell_type": "code",
   "execution_count": null,
   "metadata": {},
   "outputs": [],
   "source": [
    "log_likelihood = 0\n",
    "\n",
    "examples = 0\n",
    "\n",
    "for word in [\"anatolyjq\"]:\n",
    "    seq = [EOF] + list(word) + [EOF]\n",
    "    for i in range(len(seq)-1):\n",
    "        source_idx = encode(seq[i])\n",
    "        target_idx = encode(seq[i+1])\n",
    "        prob = probs[source_idx, target_idx]\n",
    "        log_prob = torch.log(prob)\n",
    "        log_likelihood += log_prob\n",
    "        examples += 1\n",
    "        print(f\"{decode(source_idx)} -> {decode(target_idx)}: {prob=:0.4f}, {log_prob=:0.4f}, {log_likelihood=:0.4f}\")\n",
    "\n",
    "nll = - log_likelihood\n",
    "print(f\"Sum Negative Log-Likelihood: {nll:0.4f}\")\n",
    "print(f\"Avg Negative Log-Likelihood: {nll / examples:0.4f}\")"
   ]
  },
  {
   "cell_type": "markdown",
   "metadata": {},
   "source": [
    "## Part 2: The Neural Network approach"
   ]
  },
  {
   "cell_type": "code",
   "execution_count": 14,
   "metadata": {},
   "outputs": [],
   "source": [
    "import torch\n",
    "import torch.nn as nn\n",
    "from torch.nn import functional as F"
   ]
  },
  {
   "cell_type": "code",
   "execution_count": 15,
   "metadata": {
    "tags": []
   },
   "outputs": [],
   "source": [
    "sources = []\n",
    "targets = []\n",
    "\n",
    "for word in words[:3]:\n",
    "    seq = [EOF] + list(word) + [EOF]\n",
    "    for i in range(len(seq)-1):\n",
    "        source_idx = encode(seq[i])\n",
    "        target_idx = encode(seq[i+1])\n",
    "        sources.append(source_idx)\n",
    "        targets.append(target_idx)\n"
   ]
  },
  {
   "cell_type": "code",
   "execution_count": 16,
   "metadata": {
    "tags": []
   },
   "outputs": [
    {
     "data": {
      "text/plain": [
       "torch.float32"
      ]
     },
     "execution_count": 16,
     "metadata": {},
     "output_type": "execute_result"
    }
   ],
   "source": [
    "torch.Tensor(sources).dtype"
   ]
  },
  {
   "cell_type": "code",
   "execution_count": 17,
   "metadata": {
    "tags": []
   },
   "outputs": [
    {
     "data": {
      "text/plain": [
       "tensor([ 0,  5, 13, 13,  1,  0, 15, 12,  9, 22,  9,  1,  0,  1, 22,  1])"
      ]
     },
     "execution_count": 17,
     "metadata": {},
     "output_type": "execute_result"
    }
   ],
   "source": [
    "torch.tensor(sources) ## Note that dtype gets inferred automatically in torch.tensor"
   ]
  },
  {
   "cell_type": "code",
   "execution_count": 18,
   "metadata": {
    "tags": []
   },
   "outputs": [],
   "source": [
    "sources = torch.tensor(sources)\n",
    "targets = torch.tensor(targets)"
   ]
  },
  {
   "cell_type": "code",
   "execution_count": 19,
   "metadata": {
    "tags": []
   },
   "outputs": [],
   "source": [
    "sources_encoded = F.one_hot(sources, num_classes=vocab_size).float()"
   ]
  },
  {
   "cell_type": "code",
   "execution_count": null,
   "metadata": {
    "tags": []
   },
   "outputs": [],
   "source": [
    "plt.imshow(sources_encoded)"
   ]
  },
  {
   "cell_type": "code",
   "execution_count": 23,
   "metadata": {
    "tags": []
   },
   "outputs": [
    {
     "name": "stdout",
     "output_type": "stream",
     "text": [
      "tensor(3.2408, grad_fn=<NllLossBackward0>)\n"
     ]
    }
   ],
   "source": [
    "linear = torch.nn.Linear(vocab_size, vocab_size, bias=False)\n",
    "logodds = linear(sources_encoded)\n",
    "loss = F.cross_entropy(logodds, targets)\n",
    "print(loss)"
   ]
  },
  {
   "attachments": {},
   "cell_type": "markdown",
   "metadata": {},
   "source": [
    "### Putting together a training loop"
   ]
  },
  {
   "cell_type": "code",
   "execution_count": 66,
   "metadata": {},
   "outputs": [],
   "source": [
    "targets = []\n",
    "sources = []\n",
    "\n",
    "for word in words[:1]:\n",
    "    seq = [EOF] + list(word) + [EOF]\n",
    "    for i in range(len(seq)-1):\n",
    "        source_idx = encode(seq[i])\n",
    "        target_idx = encode(seq[i+1])\n",
    "        targets.append(target_idx)\n",
    "        sources.append(source_idx)\n",
    "\n",
    "targets = torch.tensor(targets)\n",
    "sources = torch.tensor(sources)\n",
    "sources = F.one_hot(sources, num_classes=vocab_size).float()"
   ]
  },
  {
   "cell_type": "code",
   "execution_count": 67,
   "metadata": {},
   "outputs": [
    {
     "name": "stdout",
     "output_type": "stream",
     "text": [
      "sources.shape=torch.Size([5, 27]), targets.shape=torch.Size([5])\n"
     ]
    }
   ],
   "source": [
    "print(f\"{sources.shape=}, {targets.shape=}\")"
   ]
  },
  {
   "cell_type": "markdown",
   "metadata": {},
   "source": [
    "#### Forward pass"
   ]
  },
  {
   "cell_type": "code",
   "execution_count": 80,
   "metadata": {},
   "outputs": [],
   "source": [
    "g = torch.Generator().manual_seed(2147483647)\n",
    "W = torch.rand((vocab_size, vocab_size), requires_grad=True, generator=g)"
   ]
  },
  {
   "cell_type": "code",
   "execution_count": 89,
   "metadata": {},
   "outputs": [
    {
     "name": "stdout",
     "output_type": "stream",
     "text": [
      "Loss: 3.4429187774658203\n"
     ]
    }
   ],
   "source": [
    "logodds = sources @ W\n",
    "counts = logodds.exp()\n",
    "probs = counts / counts.sum(axis=1, keepdim=True)\n",
    "loss = -probs[torch.arange(probs.shape[0]), targets].log().mean()\n",
    "print(f\"Loss: {loss.item()}\")"
   ]
  },
  {
   "attachments": {},
   "cell_type": "markdown",
   "metadata": {},
   "source": [
    "#### Backward pass"
   ]
  },
  {
   "cell_type": "code",
   "execution_count": 87,
   "metadata": {},
   "outputs": [],
   "source": [
    "lr = 0.1\n",
    "W.grad = None\n",
    "loss.backward()"
   ]
  },
  {
   "cell_type": "code",
   "execution_count": 88,
   "metadata": {},
   "outputs": [],
   "source": [
    "W.data += lr * -W.grad"
   ]
  },
  {
   "attachments": {},
   "cell_type": "markdown",
   "metadata": {},
   "source": [
    "#### Making it a loop"
   ]
  },
  {
   "cell_type": "code",
   "execution_count": 95,
   "metadata": {},
   "outputs": [
    {
     "name": "stdout",
     "output_type": "stream",
     "text": [
      "sources.shape=torch.Size([228146, 27]), targets.shape=torch.Size([228146])\n"
     ]
    }
   ],
   "source": [
    "targets = []\n",
    "sources = []\n",
    "\n",
    "for word in words:\n",
    "    seq = [EOF] + list(word) + [EOF]\n",
    "    for i in range(len(seq)-1):\n",
    "        source_idx = encode(seq[i])\n",
    "        target_idx = encode(seq[i+1])\n",
    "        targets.append(target_idx)\n",
    "        sources.append(source_idx)\n",
    "\n",
    "targets = torch.tensor(targets)\n",
    "sources = torch.tensor(sources)\n",
    "sources = F.one_hot(sources, num_classes=vocab_size).float()\n",
    "print(f\"{sources.shape=}, {targets.shape=}\")"
   ]
  },
  {
   "cell_type": "code",
   "execution_count": 172,
   "metadata": {},
   "outputs": [],
   "source": [
    "g = torch.Generator().manual_seed(2147483647)\n",
    "W = torch.rand((vocab_size, vocab_size), requires_grad=True, generator=g)"
   ]
  },
  {
   "cell_type": "code",
   "execution_count": 173,
   "metadata": {},
   "outputs": [],
   "source": [
    "losses = []"
   ]
  },
  {
   "cell_type": "code",
   "execution_count": 177,
   "metadata": {},
   "outputs": [
    {
     "data": {
      "application/vnd.jupyter.widget-view+json": {
       "model_id": "1f514c608d0b44979946059fbb4179c4",
       "version_major": 2,
       "version_minor": 0
      },
      "text/plain": [
       "  0%|          | 0/500 [00:00<?, ?it/s]"
      ]
     },
     "metadata": {},
     "output_type": "display_data"
    }
   ],
   "source": [
    "for _ in tqdm.tqdm(range(500)):\n",
    "    logodds = sources @ W\n",
    "    counts = logodds.exp()\n",
    "    probs = counts / counts.sum(axis=1, keepdim=True)\n",
    "    loss = -probs[torch.arange(probs.shape[0]), targets].log().mean()\n",
    "    # print(f\"Loss: {loss.item()}\")\n",
    "    losses.append(loss.item())\n",
    "\n",
    "    W.grad = None\n",
    "    loss.backward()\n",
    "    W.data += -5 * W.grad"
   ]
  },
  {
   "cell_type": "code",
   "execution_count": 178,
   "metadata": {},
   "outputs": [
    {
     "data": {
      "text/plain": [
       "[<matplotlib.lines.Line2D at 0x7f0b4c5433a0>]"
      ]
     },
     "execution_count": 178,
     "metadata": {},
     "output_type": "execute_result"
    },
    {
     "data": {
      "image/png": "[encoded data removed]",
      "text/plain": [
       "<Figure size 640x480 with 1 Axes>"
      ]
     },
     "metadata": {},
     "output_type": "display_data"
    }
   ],
   "source": [
    "plt.plot(torch.tensor(losses))"
   ]
  },
  {
   "cell_type": "code",
   "execution_count": 128,
   "metadata": {},
   "outputs": [
    {
     "data": {
      "text/plain": [
       "[2.456404209136963,\n",
       " 2.456404209136963,\n",
       " 2.456404209136963,\n",
       " 2.456404209136963,\n",
       " 2.456404209136963]"
      ]
     },
     "execution_count": 128,
     "metadata": {},
     "output_type": "execute_result"
    }
   ],
   "source": [
    "losses[-5:]"
   ]
  },
  {
   "cell_type": "code",
   "execution_count": 132,
   "metadata": {},
   "outputs": [
    {
     "data": {
      "text/plain": [
       "torch.Size([27, 27])"
      ]
     },
     "execution_count": 132,
     "metadata": {},
     "output_type": "execute_result"
    }
   ],
   "source": [
    "W.shape"
   ]
  },
  {
   "cell_type": "code",
   "execution_count": 163,
   "metadata": {},
   "outputs": [],
   "source": [
    "W_probs = W.data.exp()\n",
    "W_probs /= W_probs.sum(axis=1, keepdims=True)"
   ]
  },
  {
   "cell_type": "code",
   "execution_count": null,
   "metadata": {},
   "outputs": [],
   "source": [
    "plt.figure(figsize=(16,16))\n",
    "plt.imshow(W_probs, cmap=\"Blues\")\n",
    "for i in range(vocab_size):\n",
    "    for j in range(vocab_size):\n",
    "        title = decode(i) + decode(j)\n",
    "        plt.text(j, i, title, ha=\"center\", va=\"bottom\", color=\"gray\")\n",
    "        plt.text(j, i, f\"{W_probs[i, j].item():.02f}\", ha=\"center\", va=\"top\", color=\"gray\")\n",
    "plt.axis(\"off\")"
   ]
  },
  {
   "cell_type": "code",
   "execution_count": null,
   "metadata": {},
   "outputs": [],
   "source": [
    "plt.figure(figsize=(16,16))\n",
    "plt.imshow(probs, cmap=\"Blues\")\n",
    "for i in range(vocab_size):\n",
    "    for j in range(vocab_size):\n",
    "        title = decode(i) + decode(j)\n",
    "        plt.text(j, i, title, ha=\"center\", va=\"bottom\", color=\"gray\")\n",
    "        plt.text(j, i, f\"{probs[i, j].item():.02f}\", ha=\"center\", va=\"top\", color=\"gray\")\n",
    "plt.axis(\"off\")"
   ]
  },
  {
   "cell_type": "code",
   "execution_count": null,
   "metadata": {},
   "outputs": [],
   "source": [
    "W_diff = W_probs - probs\n",
    "\n",
    "plt.figure(figsize=(16,16))\n",
    "plt.imshow(W_diff, cmap=\"Blues\")\n",
    "for i in range(vocab_size):\n",
    "    for j in range(vocab_size):\n",
    "        title = decode(i) + decode(j)\n",
    "        plt.text(j, i, title, ha=\"center\", va=\"bottom\", color=\"gray\")\n",
    "        plt.text(j, i, f\"{W_diff[i, j].item():.02f}\", ha=\"center\", va=\"top\", color=\"gray\")\n",
    "plt.axis(\"off\")"
   ]
  },
  {
   "attachments": {},
   "cell_type": "markdown",
   "metadata": {},
   "source": [
    "## Finally how do we sample from this model?"
   ]
  },
  {
   "cell_type": "code",
   "execution_count": 157,
   "metadata": {},
   "outputs": [
    {
     "name": "stdout",
     "output_type": "stream",
     "text": [
      "junide\n",
      "janasah\n",
      "p\n",
      "cony\n",
      "a\n",
      "nn\n",
      "kohin\n",
      "tolian\n",
      "juee\n",
      "ksahnaauranilevias\n"
     ]
    }
   ],
   "source": [
    "g = torch.Generator().manual_seed(2147483647)\n",
    "\n",
    "for _ in range(10):\n",
    "    print(gen_sequence(probs, generator=g))"
   ]
  },
  {
   "cell_type": "code",
   "execution_count": 171,
   "metadata": {},
   "outputs": [
    {
     "name": "stdout",
     "output_type": "stream",
     "text": [
      "juwjdvdipkaqaz\n",
      "p\n",
      "cfaywecnzqfuiirltozcogsjgwzzudlhnpauyabilevhajkdbduinrwibtldsnjyievyvaftbzffvmumthyfodtumj\n",
      "pfytszwjhrjagq\n",
      "coreaysezocfkyjjabdywejfmoifmwyfinwagaasnhsvfihouszxhddgosfmptpacicz\n",
      "rjpiufmthdt\n",
      "rkrrsru\n",
      "iyumuyvy\n",
      "mjekujcbkhvupwyhlpvhvccragr\n",
      "wdkhwfdztta\n"
     ]
    }
   ],
   "source": [
    "g = torch.Generator().manual_seed(2147483647)\n",
    "\n",
    "for _ in range(10):\n",
    "    print(gen_sequence(W_probs, generator=g))"
   ]
  },
  {
   "attachments": {},
   "cell_type": "markdown",
   "metadata": {},
   "source": [
    "This doesn't look good, need to figure out why, but maybe i just messed up with my W_probs"
   ]
  },
  {
   "cell_type": "markdown",
   "metadata": {},
   "source": []
  }
 ],
 "metadata": {
  "kernelspec": {
   "display_name": "python3",
   "language": "python",
   "name": "python3"
  },
  "language_info": {
   "codemirror_mode": {
    "name": "ipython",
    "version": 3
   },
   "file_extension": ".py",
   "mimetype": "text/x-python",
   "name": "python",
   "nbconvert_exporter": "python",
   "pygments_lexer": "ipython3",
   "version": "3.10.8"
  }
 },
 "nbformat": 4,
 "nbformat_minor": 4
}
